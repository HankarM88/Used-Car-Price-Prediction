{
 "cells": [
  {
   "cell_type": "markdown",
   "metadata": {},
   "source": [
    "### Import Libraries "
   ]
  },
  {
   "cell_type": "code",
   "execution_count": 94,
   "metadata": {},
   "outputs": [],
   "source": [
    "import warnings\n",
    "import numpy as np \n",
    "import pandas as pd \n",
    "from matplotlib import pyplot as plt \n",
    "import seaborn as sb\n",
    "from sklearn.preprocessing import LabelEncoder\n",
    "sb.set_style(style='whitegrid')\n",
    "%matplotlib inline \n",
    "warnings.filterwarnings('ignore')"
   ]
  },
  {
   "cell_type": "markdown",
   "metadata": {},
   "source": [
    "### Loading data"
   ]
  },
  {
   "cell_type": "code",
   "execution_count": 102,
   "metadata": {},
   "outputs": [
    {
     "data": {
      "text/html": [
       "<div>\n",
       "<style scoped>\n",
       "    .dataframe tbody tr th:only-of-type {\n",
       "        vertical-align: middle;\n",
       "    }\n",
       "\n",
       "    .dataframe tbody tr th {\n",
       "        vertical-align: top;\n",
       "    }\n",
       "\n",
       "    .dataframe thead th {\n",
       "        text-align: right;\n",
       "    }\n",
       "</style>\n",
       "<table border=\"1\" class=\"dataframe\">\n",
       "  <thead>\n",
       "    <tr style=\"text-align: right;\">\n",
       "      <th></th>\n",
       "      <th>price</th>\n",
       "      <th>production_year</th>\n",
       "      <th>mileage</th>\n",
       "      <th>fuel_type</th>\n",
       "      <th>mark</th>\n",
       "      <th>model</th>\n",
       "      <th>fiscal_power</th>\n",
       "      <th>sector</th>\n",
       "      <th>type</th>\n",
       "      <th>city</th>\n",
       "    </tr>\n",
       "  </thead>\n",
       "  <tbody>\n",
       "    <tr>\n",
       "      <th>0</th>\n",
       "      <td>135 000 DH</td>\n",
       "      <td>Année-Modèle:2013</td>\n",
       "      <td>Kilométrage:160 000 - 169 999</td>\n",
       "      <td>Type de carburant:Diesel</td>\n",
       "      <td>Marque:Peugeot</td>\n",
       "      <td>Modèle:508</td>\n",
       "      <td>Puissance fiscale:-</td>\n",
       "      <td>-</td>\n",
       "      <td>Type:Voitures, Offre</td>\n",
       "      <td>Temara</td>\n",
       "    </tr>\n",
       "    <tr>\n",
       "      <th>1</th>\n",
       "      <td>53 000 DH</td>\n",
       "      <td>Année-Modèle:2008</td>\n",
       "      <td>Kilométrage:35 000 - 39 999</td>\n",
       "      <td>Type de carburant:Diesel</td>\n",
       "      <td>Marque:Renault</td>\n",
       "      <td>Modèle:Clio</td>\n",
       "      <td>Puissance fiscale:-</td>\n",
       "      <td>-</td>\n",
       "      <td>Type:Voitures, Offre</td>\n",
       "      <td>Safi</td>\n",
       "    </tr>\n",
       "    <tr>\n",
       "      <th>2</th>\n",
       "      <td>59 000 DH</td>\n",
       "      <td>Année-Modèle:2007</td>\n",
       "      <td>Kilométrage:180 000 - 189 999</td>\n",
       "      <td>Type de carburant:Diesel</td>\n",
       "      <td>Marque:Citroen</td>\n",
       "      <td>Modèle:C3</td>\n",
       "      <td>Puissance fiscale:6 CV</td>\n",
       "      <td>Secteur:oued_fes</td>\n",
       "      <td>Type:Voitures, Offre</td>\n",
       "      <td>Fès</td>\n",
       "    </tr>\n",
       "    <tr>\n",
       "      <th>3</th>\n",
       "      <td>88 000 DH</td>\n",
       "      <td>Année-Modèle:2010</td>\n",
       "      <td>Kilométrage:35 000 - 39 999</td>\n",
       "      <td>Type de carburant:Diesel</td>\n",
       "      <td>Marque:Mercedes-Benz</td>\n",
       "      <td>Modèle:220</td>\n",
       "      <td>Puissance fiscale:-</td>\n",
       "      <td>-</td>\n",
       "      <td>Type:Voitures, Offre</td>\n",
       "      <td>Nador</td>\n",
       "    </tr>\n",
       "    <tr>\n",
       "      <th>4</th>\n",
       "      <td>60 000 DH</td>\n",
       "      <td>Année-Modèle:2009</td>\n",
       "      <td>Kilométrage:130 000 - 139 999</td>\n",
       "      <td>Type de carburant:Essence</td>\n",
       "      <td>Marque:Ford</td>\n",
       "      <td>Modèle:Fiesta</td>\n",
       "      <td>Puissance fiscale:7 CV</td>\n",
       "      <td>Secteur:saies</td>\n",
       "      <td>Type:Voitures, Offre</td>\n",
       "      <td>Fès</td>\n",
       "    </tr>\n",
       "  </tbody>\n",
       "</table>\n",
       "</div>"
      ],
      "text/plain": [
       "        price    production_year                        mileage  \\\n",
       "0  135 000 DH  Année-Modèle:2013  Kilométrage:160 000 - 169 999   \n",
       "1   53 000 DH  Année-Modèle:2008    Kilométrage:35 000 - 39 999   \n",
       "2   59 000 DH  Année-Modèle:2007  Kilométrage:180 000 - 189 999   \n",
       "3   88 000 DH  Année-Modèle:2010    Kilométrage:35 000 - 39 999   \n",
       "4   60 000 DH  Année-Modèle:2009  Kilométrage:130 000 - 139 999   \n",
       "\n",
       "                   fuel_type                  mark          model  \\\n",
       "0   Type de carburant:Diesel        Marque:Peugeot     Modèle:508   \n",
       "1   Type de carburant:Diesel        Marque:Renault    Modèle:Clio   \n",
       "2   Type de carburant:Diesel        Marque:Citroen      Modèle:C3   \n",
       "3   Type de carburant:Diesel  Marque:Mercedes-Benz     Modèle:220   \n",
       "4  Type de carburant:Essence           Marque:Ford  Modèle:Fiesta   \n",
       "\n",
       "             fiscal_power            sector                  type     city  \n",
       "0     Puissance fiscale:-                 -  Type:Voitures, Offre   Temara  \n",
       "1     Puissance fiscale:-                 -  Type:Voitures, Offre     Safi  \n",
       "2  Puissance fiscale:6 CV  Secteur:oued_fes  Type:Voitures, Offre      Fès  \n",
       "3     Puissance fiscale:-                 -  Type:Voitures, Offre    Nador  \n",
       "4  Puissance fiscale:7 CV     Secteur:saies  Type:Voitures, Offre      Fès  "
      ]
     },
     "execution_count": 102,
     "metadata": {},
     "output_type": "execute_result"
    }
   ],
   "source": [
    "#put on the name of columns on the dataframe \n",
    "colnames=['price', 'production_year', 'mileage', 'fuel_type', 'mark', 'model', 'fiscal_power', 'sector', 'type', 'city'] \n",
    "# read the csv file as a dataframe\n",
    "df = pd.read_csv(\"../data/raw_used_cars.csv\", sep=\",\", header=None,names=colnames)\n",
    "# let's get some simple vision on our dataset\n",
    "df.head()"
   ]
  },
  {
   "cell_type": "markdown",
   "metadata": {},
   "source": [
    "### Preprocessing and Cleaning Data "
   ]
  },
  {
   "cell_type": "markdown",
   "metadata": {},
   "source": [
    "##### PRICE"
   ]
  },
  {
   "cell_type": "code",
   "execution_count": 104,
   "metadata": {},
   "outputs": [
    {
     "data": {
      "text/plain": [
       "0       135000\n",
       "1        53000\n",
       "2        59000\n",
       "3        88000\n",
       "4        60000\n",
       "         ...  \n",
       "8664    123000\n",
       "8665     97000\n",
       "8666     96000\n",
       "8667     41000\n",
       "8668     90000\n",
       "Name: price, Length: 8664, dtype: int32"
      ]
     },
     "execution_count": 104,
     "metadata": {},
     "output_type": "execute_result"
    }
   ],
   "source": [
    "# PRICE COLUMN CLEANING \n",
    "# remove thos rows doesn't contain the price value\n",
    "df = df[df.price.str.contains(\"DH\") == True]\n",
    "# remove the 'DH' caracters from the price values in the right \n",
    "df.price = df.price.apply(lambda x: x.rstrip('DH'))\n",
    "# remove the space \n",
    "df.price = df.price.str.replace(\" \",\"\")\n",
    "# change it to integer value\n",
    "df.price = pd.to_numeric(df.price, errors = 'coerce', downcast= 'integer')\n",
    "df.price"
   ]
  },
  {
   "cell_type": "markdown",
   "metadata": {},
   "source": [
    "##### PRODUCTION YEAR "
   ]
  },
  {
   "cell_type": "code",
   "execution_count": 108,
   "metadata": {},
   "outputs": [
    {
     "data": {
      "text/plain": [
       "array(['Année-Modèle:2013', 'Année-Modèle:2008', 'Année-Modèle:2007',\n",
       "       'Année-Modèle:2010', 'Année-Modèle:2009', 'Année-Modèle:2006',\n",
       "       'Année-Modèle:2003', 'Année-Modèle:2014', 'Année-Modèle:2001',\n",
       "       'Année-Modèle:2015', 'Année-Modèle:1993', 'Année-Modèle:2002',\n",
       "       'Année-Modèle:1999', 'Année-Modèle:1995', 'Année-Modèle:1996',\n",
       "       'Année-Modèle:2012', 'Année-Modèle:2000', 'Année-Modèle:2011',\n",
       "       'Année-Modèle:1987', 'Année-Modèle:2005', 'Année-Modèle:1988',\n",
       "       'Année-Modèle:2004', 'Année-Modèle:1998', 'Année-Modèle:1991',\n",
       "       'Année-Modèle:1997', 'Année-Modèle:1992', 'Année-Modèle:2016',\n",
       "       'Année-Modèle:1986', 'Année-Modèle:2017', 'Année-Modèle:1990',\n",
       "       'Année-Modèle:1989', 'Année-Modèle:1984', 'Année-Modèle:-',\n",
       "       'Année-Modèle:1994', 'Année-Modèle:1980 ou plus ancien',\n",
       "       'Année-Modèle:1985', 'Année-Modèle:1983', 'Année-Modèle:2018',\n",
       "       'Année-Modèle:1981', 'Année-Modèle:1982', 'Année-Modèle: -'],\n",
       "      dtype=object)"
      ]
     },
     "execution_count": 108,
     "metadata": {},
     "output_type": "execute_result"
    }
   ],
   "source": [
    "df.production_year.unique()"
   ]
  },
  {
   "cell_type": "code",
   "execution_count": 110,
   "metadata": {},
   "outputs": [
    {
     "data": {
      "text/plain": [
       "array([2013., 2008., 2007., 2010., 2009., 2006., 2003., 2014., 2001.,\n",
       "       2015., 1993., 2002., 1999., 1995., 1996., 2012., 2000., 2011.,\n",
       "       1987., 2005., 1988., 2004., 1998., 1991., 1997., 1992., 2016.,\n",
       "       1986., 2017., 1990., 1989., 1984., 1994.,   nan, 1985., 1983.,\n",
       "       2018., 1981., 1982.])"
      ]
     },
     "execution_count": 110,
     "metadata": {},
     "output_type": "execute_result"
    }
   ],
   "source": [
    "## YEAR MODEL \n",
    "# remove those rows that doesn't contain the year_model value\n",
    "df = df[df.production_year.str.contains(\"Année-Modèle\") == True]\n",
    "# remove the 'Année-Modèle:' from the year_model on the left \n",
    "df.production_year = df.production_year.map(lambda s: s.lstrip('Année-Modèle:'))\n",
    "# remove 'ou plus ancien' from the year model o the right\n",
    "df._year=df.production_year.apply(lambda s:s.rstrip('ou plus ancien'))\n",
    "# df.year_model = df.year_model.map(lambda x: x.lstrip('Plus de '))\n",
    "# remove those lines having the model_year not set\n",
    "df = df[df.production_year != ' -']\n",
    "df = df[df.production_year != '']\n",
    "# change it to integer value\n",
    "df.production_year = pd.to_numeric(df.production_year, errors = 'coerce', downcast = 'integer')\n",
    "df.production_year.unique()"
   ]
  },
  {
   "cell_type": "markdown",
   "metadata": {},
   "source": [
    "##### MILEAGE"
   ]
  },
  {
   "cell_type": "code",
   "execution_count": 112,
   "metadata": {},
   "outputs": [
    {
     "data": {
      "text/plain": [
       "array(['Kilométrage:160 000 - 169 999', 'Kilométrage:35 000 - 39 999',\n",
       "       'Kilométrage:180 000 - 189 999', 'Kilométrage:130 000 - 139 999',\n",
       "       'Kilométrage:100 000 - 109 999', 'Kilométrage:10 000 - 14 999',\n",
       "       'Kilométrage:250 000 - 299 999', 'Kilométrage:110 000 - 119 999',\n",
       "       'Kilométrage:170 000 - 179 999', 'Kilométrage:65 000 - 69 999',\n",
       "       'Kilométrage:85 000 - 89 999', 'Kilométrage:25 000 - 29 999',\n",
       "       'Kilométrage:75 000 - 79 999', 'Kilométrage:120 000 - 129 999',\n",
       "       'Kilométrage:30 000 - 34 999', 'Kilométrage:200 000 - 249 999',\n",
       "       'Kilométrage:5 000 - 9 999', 'Kilométrage:0 - 4 999',\n",
       "       'Kilométrage:20 000 - 24 999', 'Kilométrage:50 000 - 54 999',\n",
       "       'Kilométrage:150 000 - 159 999', 'Kilométrage:80 000 - 84 999',\n",
       "       'Kilométrage:300 000 - 349 999', 'Kilométrage: 120 000 - 129 999',\n",
       "       'Kilométrage:55 000 - 59 999', 'Kilométrage:350 000 - 399 999',\n",
       "       'Kilométrage:45 000 - 49 999', 'Kilométrage:15 000 - 19 999',\n",
       "       'Kilométrage:140 000 - 149 999', 'Kilométrage:400 000 - 449 999',\n",
       "       'Kilométrage:40 000 - 44 999', 'Kilométrage:95 000 - 99 999',\n",
       "       'Kilométrage:90 000 - 94 999', 'Kilométrage:190 000 - 199 999',\n",
       "       'Kilométrage:60 000 - 64 999', 'Kilométrage:Plus de 500 000',\n",
       "       'Kilométrage:70 000 - 74 999', 'Kilométrage: 80 000 - 84 999',\n",
       "       'Kilométrage:-', 'Kilométrage: 55 000 - 59 999',\n",
       "       'Kilométrage:450 000 - 499 999', 'Kilométrage: 60 000 - 64 999',\n",
       "       'Kilométrage: 10 000 - 14 999', 'Kilométrage: 100 000 - 109 999',\n",
       "       'Kilométrage: 65 000 - 69 999', 'Kilométrage: 180 000 - 189 999',\n",
       "       'Kilométrage: 20 000 - 24 999'], dtype=object)"
      ]
     },
     "execution_count": 112,
     "metadata": {},
     "output_type": "execute_result"
    }
   ],
   "source": [
    "df.mileage.unique()"
   ]
  },
  {
   "cell_type": "code",
   "execution_count": 114,
   "metadata": {},
   "outputs": [
    {
     "data": {
      "text/plain": [
       "0       160 000 - 169 999\n",
       "1         35 000 - 39 999\n",
       "2       180 000 - 189 999\n",
       "3         35 000 - 39 999\n",
       "4       130 000 - 139 999\n",
       "              ...        \n",
       "8664      15 000 - 19 999\n",
       "8665      65 000 - 69 999\n",
       "8666      70 000 - 74 999\n",
       "8667    150 000 - 159 999\n",
       "8668      50 000 - 54 999\n",
       "Name: mileage, Length: 8558, dtype: object"
      ]
     },
     "execution_count": 114,
     "metadata": {},
     "output_type": "execute_result"
    }
   ],
   "source": [
    "# remove thos rows doesn't contain the year_model value\n",
    "df = df[df.mileage.str.contains(\"Kilométrage\") == True]\n",
    "# remove the 'Kilométrage:' string from the mileage feature \n",
    "df.mileage = df.mileage.map(lambda x: x.lstrip('Kilométrage:'))\n",
    "df.mileage = df.mileage.map(lambda x: x.lstrip('Plus de '))\n",
    "# remove those lines having the mileage values null or '-'\n",
    "df = df[df.mileage != '-']\n",
    "df.mileage = df.mileage.astype(str)\n",
    "df.mileage"
   ]
  },
  {
   "cell_type": "code",
   "execution_count": 116,
   "metadata": {},
   "outputs": [
    {
     "data": {
      "text/plain": [
       "0       169999\n",
       "1        39999\n",
       "2       189999\n",
       "3        39999\n",
       "4       139999\n",
       "         ...  \n",
       "8664     19999\n",
       "8665     69999\n",
       "8666     74999\n",
       "8667    159999\n",
       "8668     54999\n",
       "Name: mileage, Length: 8514, dtype: int32"
      ]
     },
     "execution_count": 116,
     "metadata": {},
     "output_type": "execute_result"
    }
   ],
   "source": [
    "# we have only one value type that is equal to 500 000, all the other ones contain two values\n",
    "df = df[df.mileage != '500 000']\n",
    "# we will only take the maximum value from the milage ranges. you could take the minimum value.\n",
    "df['mileage'] = df.mileage.apply(lambda s: s.split('-', 2)[1])\n",
    "# remove spaces from the maxim & minim values \n",
    "df['mileage'] = df.mileage.str.replace(\" \",\"\")\n",
    "#replace NaN values with 0 \n",
    "df['mileage'] = df['mileage'].replace(np.nan, 0)\n",
    "df.mileage = pd.to_numeric(df.mileage,errors = 'coerce', downcast = 'integer')\n",
    "#show the new dataframe \n",
    "df.mileage"
   ]
  },
  {
   "cell_type": "markdown",
   "metadata": {},
   "source": [
    "#### FUEL TYPE "
   ]
  },
  {
   "cell_type": "code",
   "execution_count": 128,
   "metadata": {},
   "outputs": [
    {
     "data": {
      "text/plain": [
       "fuel_type\n",
       "Diesel        6110\n",
       "Essence       2394\n",
       "Electrique       3\n",
       "LPG              2\n",
       "Name: count, dtype: int64"
      ]
     },
     "execution_count": 128,
     "metadata": {},
     "output_type": "execute_result"
    }
   ],
   "source": [
    "df.fuel_type.value_counts()"
   ]
  },
  {
   "cell_type": "code",
   "execution_count": 132,
   "metadata": {},
   "outputs": [
    {
     "data": {
      "text/plain": [
       "fuel_type\n",
       "Diesel     6110\n",
       "Essence    2394\n",
       "Name: count, dtype: int64"
      ]
     },
     "execution_count": 132,
     "metadata": {},
     "output_type": "execute_result"
    }
   ],
   "source": [
    "# remove the 'Type de carburant:' string from the carburant_type feature\n",
    "df.fuel_type = df.fuel_type.map(lambda x: x.lstrip('Type de carburant:'))\n",
    "# remove the lines having the fuel_type not set\n",
    "df = df[df.fuel_type != '-']\n",
    "# delete LPG and Electrique \n",
    "df = df[(df.fuel_type ==\"Diesel\")|(df.fuel_type == \"Essence\")]\n",
    "# print\n",
    "df.fuel_type.value_counts()"
   ]
  },
  {
   "cell_type": "code",
   "execution_count": 126,
   "metadata": {},
   "outputs": [
    {
     "data": {
      "text/plain": [
       "<Axes: xlabel='fuel_type'>"
      ]
     },
     "execution_count": 126,
     "metadata": {},
     "output_type": "execute_result"
    },
    {
     "data": {
      "image/png": "[encoded data removed]",
      "text/plain": [
       "<Figure size 800x400 with 1 Axes>"
      ]
     },
     "metadata": {},
     "output_type": "display_data"
    }
   ],
   "source": [
    "plt.style.use('ggplot')\n",
    "df.fuel_type.value_counts().plot(kind='bar',figsize=(8, 4))"
   ]
  },
  {
   "cell_type": "markdown",
   "metadata": {},
   "source": [
    "#### MARK & MODEL"
   ]
  },
  {
   "cell_type": "code",
   "execution_count": 53,
   "metadata": {},
   "outputs": [
    {
     "data": {
      "text/plain": [
       "array(['Marque:Peugeot', 'Marque:Renault', 'Marque:Citroen',\n",
       "       'Marque:Mercedes-Benz', 'Marque:Ford', 'Marque:Nissan',\n",
       "       'Marque:Fiat', 'Marque:Skoda', 'Marque:Hyundai', 'Marque:Kia',\n",
       "       'Marque:Dacia', 'Marque:Opel', 'Marque:Volkswagen', 'Marque:mini',\n",
       "       'Marque:Seat', 'Marque:Isuzu', 'Marque:Honda', 'Marque:Mitsubishi',\n",
       "       'Marque:Toyota', 'Marque:BMW', 'Marque:Chevrolet', 'Marque:Audi',\n",
       "       'Marque:Suzuki', 'Marque:Ssangyong', 'Marque:lancia',\n",
       "       'Marque:Jaguar', 'Marque:Volvo', 'Marque:Autres', 'Marque:BYD',\n",
       "       'Marque:Daihatsu', 'Marque:Land Rover', 'Marque:Jeep',\n",
       "       'Marque:Chery', 'Marque:Alfa Romeo', 'Marque:Bentley',\n",
       "       'Marque:Daewoo', 'Marque:Hummer', 'Marque:Mazda',\n",
       "       'Marque:Chrysler', 'Marque:Maserati', 'Marque:Cadillac',\n",
       "       'Marque:Dodge', 'Marque:Rover', 'Marque:Porsche', 'Marque:GMC',\n",
       "       'Marque:Infiniti', 'Marque:Changhe', 'Marque:Geely',\n",
       "       'Marque:Zotye', 'Marque:UFO', 'Marque:Foton', 'Marque:Pontiac',\n",
       "       'Marque:Acura', 'Marque:Lexus'], dtype=object)"
      ]
     },
     "execution_count": 53,
     "metadata": {},
     "output_type": "execute_result"
    }
   ],
   "source": [
    "df.mark.unique()"
   ]
  },
  {
   "cell_type": "code",
   "execution_count": 138,
   "metadata": {},
   "outputs": [
    {
     "data": {
      "text/plain": [
       "0             Peugeot\n",
       "1             Renault\n",
       "2             Citroen\n",
       "3       Mercedes-Benz\n",
       "4                Ford\n",
       "            ...      \n",
       "8663             Fiat\n",
       "8664          Hyundai\n",
       "8665          Citroen\n",
       "8667       Volkswagen\n",
       "8668          Peugeot\n",
       "Name: mark, Length: 8496, dtype: object"
      ]
     },
     "execution_count": 138,
     "metadata": {},
     "output_type": "execute_result"
    }
   ],
   "source": [
    "# remove the 'Marque:' string from the mark feature\n",
    "df['mark'] = df['mark'].apply(lambda x: x.replace('Marque:', ''))\n",
    "#remove empty lines \n",
    "df = df[df.mark != '-']\n",
    "# remove the 'Modèle:' string from model feature \n",
    "df['model'] = df['model'].map(lambda x: x.replace('Modèle:', ''))\n",
    "df = df[df.model != '-']\n",
    "df.mark"
   ]
  },
  {
   "cell_type": "code",
   "execution_count": 140,
   "metadata": {},
   "outputs": [
    {
     "data": {
      "text/plain": [
       "array(['Peugeot', 'Renault', 'Citroen', 'Mercedes-Benz', 'Ford', 'Nissan',\n",
       "       'Fiat', 'Skoda', 'Hyundai', 'Kia', 'Dacia', 'Opel', 'Volkswagen',\n",
       "       'mini', 'Seat', 'Isuzu', 'Honda', 'Mitsubishi', 'Toyota', 'BMW',\n",
       "       'Chevrolet', 'Audi', 'Suzuki', 'Ssangyong', 'lancia', 'Jaguar',\n",
       "       'Volvo', 'Autres', 'BYD', 'Daihatsu', 'Land Rover', 'Jeep',\n",
       "       'Chery', 'Alfa Romeo', 'Bentley', 'Daewoo', 'Hummer', 'Mazda',\n",
       "       'Chrysler', 'Maserati', 'Cadillac', 'Dodge', 'Rover', 'Porsche',\n",
       "       'GMC', 'Infiniti', 'Changhe', 'Geely', 'Zotye', 'UFO', 'Foton',\n",
       "       'Pontiac', 'Acura', 'Lexus'], dtype=object)"
      ]
     },
     "execution_count": 140,
     "metadata": {},
     "output_type": "execute_result"
    }
   ],
   "source": [
    "df.mark.unique()"
   ]
  },
  {
   "cell_type": "code",
   "execution_count": 142,
   "metadata": {},
   "outputs": [
    {
     "data": {
      "text/plain": [
       "model\n",
       "Logan       313\n",
       "Clio        260\n",
       "Kangoo      227\n",
       "Uno         212\n",
       "Megane      195\n",
       "           ... \n",
       "Avenger       1\n",
       "TALISMAN      1\n",
       "Fox           1\n",
       "F3            1\n",
       "X1            1\n",
       "Name: count, Length: 485, dtype: int64"
      ]
     },
     "execution_count": 142,
     "metadata": {},
     "output_type": "execute_result"
    }
   ],
   "source": [
    "df.model.value_counts()"
   ]
  },
  {
   "cell_type": "markdown",
   "metadata": {},
   "source": [
    "#### FISCAL POWER"
   ]
  },
  {
   "cell_type": "code",
   "execution_count": 144,
   "metadata": {},
   "outputs": [
    {
     "data": {
      "text/plain": [
       "array(['Puissance fiscale:-', 'Puissance fiscale:6 CV',\n",
       "       'Puissance fiscale:7 CV', 'Puissance fiscale:20 CV',\n",
       "       'Puissance fiscale:5 CV', 'Puissance fiscale:8 CV',\n",
       "       'Puissance fiscale:9 CV', 'Puissance fiscale:10 CV',\n",
       "       'Puissance fiscale:4 CV', 'Puissance fiscale:12 CV',\n",
       "       'Puissance fiscale:- ', 'Puissance fiscale:17 CV',\n",
       "       'Puissance fiscale:28 CV', 'Puissance fiscale:11 CV',\n",
       "       'Puissance fiscale:21 CV', 'Puissance fiscale:26 CV',\n",
       "       'Puissance fiscale:13 CV', 'Puissance fiscale:24 CV',\n",
       "       'Puissance fiscale:23 CV', 'Puissance fiscale:29 CV',\n",
       "       'Puissance fiscale:34 CV', 'Puissance fiscale:18 CV',\n",
       "       'Puissance fiscale:31 CV', 'Puissance fiscale:16 CV',\n",
       "       'Puissance fiscale:15 CV', 'Puissance fiscale:39 CV',\n",
       "       'Puissance fiscale:19 CV', 'Puissance fiscale:14 CV',\n",
       "       'Puissance fiscale:Plus de 48 CV', 'Puissance fiscale:40 CV'],\n",
       "      dtype=object)"
      ]
     },
     "execution_count": 144,
     "metadata": {},
     "output_type": "execute_result"
    }
   ],
   "source": [
    "df.fiscal_power.unique()"
   ]
  },
  {
   "cell_type": "code",
   "execution_count": 146,
   "metadata": {},
   "outputs": [
    {
     "data": {
      "text/plain": [
       "fiscal_power\n",
       "Puissance fiscale:-                5584\n",
       "Puissance fiscale:6 CV             1007\n",
       "Puissance fiscale:8 CV              688\n",
       "Puissance fiscale:7 CV              488\n",
       "Puissance fiscale:9 CV              206\n",
       "Puissance fiscale:11 CV             115\n",
       "Puissance fiscale:5 CV              107\n",
       "Puissance fiscale:10 CV             107\n",
       "Puissance fiscale:12 CV             103\n",
       "Puissance fiscale:4 CV               22\n",
       "Puissance fiscale:17 CV              14\n",
       "Puissance fiscale:13 CV              11\n",
       "Puissance fiscale:21 CV               7\n",
       "Puissance fiscale:-                   6\n",
       "Puissance fiscale:20 CV               5\n",
       "Puissance fiscale:23 CV               4\n",
       "Puissance fiscale:Plus de 48 CV       3\n",
       "Puissance fiscale:14 CV               3\n",
       "Puissance fiscale:15 CV               2\n",
       "Puissance fiscale:26 CV               2\n",
       "Puissance fiscale:29 CV               2\n",
       "Puissance fiscale:40 CV               2\n",
       "Puissance fiscale:34 CV               1\n",
       "Puissance fiscale:18 CV               1\n",
       "Puissance fiscale:31 CV               1\n",
       "Puissance fiscale:16 CV               1\n",
       "Puissance fiscale:39 CV               1\n",
       "Puissance fiscale:19 CV               1\n",
       "Puissance fiscale:24 CV               1\n",
       "Puissance fiscale:28 CV               1\n",
       "Name: count, dtype: int64"
      ]
     },
     "execution_count": 146,
     "metadata": {},
     "output_type": "execute_result"
    }
   ],
   "source": [
    "df.fiscal_power.value_counts()"
   ]
  },
  {
   "cell_type": "code",
   "execution_count": 148,
   "metadata": {},
   "outputs": [],
   "source": [
    "# remove the 'Puissance fiscale:' and 'CV' from the fiscal_power values \n",
    "df.fiscal_power = df.fiscal_power.map(lambda x: x.lstrip('Puissance fiscale:Plus de').rstrip(' CV'))\n",
    "## A lot of fiscal power values are set to empty value. So we will be filling \n",
    "# them with the mode (6) as the most occurent fiscal pwer value. \n",
    "df.fiscal_power = df.fiscal_power.str.replace(\"-\",\"6\")\n",
    "# convert all fiscal_power values to numerical ones \n",
    "df.fiscal_power = pd.to_numeric(df.fiscal_power, errors = 'coerce', downcast= 'integer')"
   ]
  },
  {
   "cell_type": "code",
   "execution_count": 154,
   "metadata": {},
   "outputs": [
    {
     "name": "stdout",
     "output_type": "stream",
     "text": [
      "<class 'pandas.core.frame.DataFrame'>\n",
      "RangeIndex: 8501 entries, 0 to 8500\n",
      "Data columns (total 7 columns):\n",
      " #   Column        Non-Null Count  Dtype \n",
      "---  ------        --------------  ----- \n",
      " 0   price         8501 non-null   int64 \n",
      " 1   model_year    8501 non-null   int64 \n",
      " 2   mileage       8501 non-null   int64 \n",
      " 3   fuel_type     8501 non-null   object\n",
      " 4   mark          8501 non-null   object\n",
      " 5   model         8501 non-null   object\n",
      " 6   fiscal_power  8501 non-null   int64 \n",
      "dtypes: int64(4), object(3)\n",
      "memory usage: 465.0+ KB\n"
     ]
    }
   ],
   "source": [
    "df.info()"
   ]
  },
  {
   "cell_type": "markdown",
   "metadata": {},
   "source": [
    "### Handling Outliers "
   ]
  },
  {
   "cell_type": "code",
   "execution_count": 164,
   "metadata": {},
   "outputs": [],
   "source": [
    "# Define a function for plotting a boxplot\n",
    "def boxplot(df,col):\n",
    "    fig = plt.figure(figsize=(12,8))\n",
    "    sb.set_style('darkgrid')\n",
    "    sb.boxplot(data = df,x = col)\n",
    "    plt.title(f'Plotting {col} Outliers')\n",
    "    plt.show()\n",
    "# Define a function to get the outliers \n",
    "def detect_outliers(df, col):\n",
    "    Q1= df[col].quantile(0.25)\n",
    "    Q3 = df[col].quantile(0.75)\n",
    "    IQR = Q3 - Q1\n",
    "    upper_limit = Q3 + 1.5 * IQR\n",
    "    lower_limit = Q1 - 1.5 * IQR\n",
    "    return upper_limit, lower_limit"
   ]
  },
  {
   "cell_type": "code",
   "execution_count": 166,
   "metadata": {},
   "outputs": [
    {
     "data": {
      "image/png": "[encoded data removed]",
      "text/plain": [
       "<Figure size 1200x800 with 1 Axes>"
      ]
     },
     "metadata": {},
     "output_type": "display_data"
    }
   ],
   "source": [
    "# plot the mileage box plot \n",
    "boxplot(df,'mileage')"
   ]
  },
  {
   "cell_type": "code",
   "execution_count": 168,
   "metadata": {},
   "outputs": [
    {
     "data": {
      "image/png": "[encoded data removed]",
      "text/plain": [
       "<Figure size 1200x800 with 1 Axes>"
      ]
     },
     "metadata": {},
     "output_type": "display_data"
    }
   ],
   "source": [
    "#plot the fiscal pwoer boxplot \n",
    "boxplot(df,'fiscal_power')"
   ]
  },
  {
   "cell_type": "code",
   "execution_count": 170,
   "metadata": {},
   "outputs": [
    {
     "data": {
      "image/png": "[encoded data removed]",
      "text/plain": [
       "<Figure size 1200x800 with 1 Axes>"
      ]
     },
     "metadata": {},
     "output_type": "display_data"
    }
   ],
   "source": [
    "#plot the model year boxplot \n",
    "boxplot(df,'production_year')"
   ]
  },
  {
   "cell_type": "markdown",
   "metadata": {},
   "source": [
    "### Outliers Removal"
   ]
  },
  {
   "cell_type": "code",
   "execution_count": 173,
   "metadata": {},
   "outputs": [],
   "source": [
    "#get the mileage whiskers \n",
    "mileage_upper,mileage_lower = detect_outliers(df,'mileage')\n",
    "#get the model whiskers \n",
    "myear_upper,myear_lower = detect_outliers(df,'production_year')"
   ]
  },
  {
   "cell_type": "code",
   "execution_count": 175,
   "metadata": {},
   "outputs": [],
   "source": [
    "# Remove the mileage outliers for in the dataset\n",
    "df = df[(df['mileage'] > mileage_lower) & (df['mileage'] < mileage_upper)]\n",
    "# Then remove model year outliers from it  \n",
    "df = df[(df['production_year'] > 1990) & (df['production_year'] < myear_upper)]\n",
    "# For the fiscal power we will be romoving all values equal or above 20 \n",
    "df = df[df.fiscal_power<=20]"
   ]
  },
  {
   "cell_type": "code",
   "execution_count": 177,
   "metadata": {},
   "outputs": [
    {
     "data": {
      "image/png": "[encoded data removed]",
      "text/plain": [
       "<Figure size 1200x800 with 1 Axes>"
      ]
     },
     "metadata": {},
     "output_type": "display_data"
    }
   ],
   "source": [
    "boxplot(df,'mileage')"
   ]
  },
  {
   "cell_type": "code",
   "execution_count": 179,
   "metadata": {},
   "outputs": [
    {
     "data": {
      "image/png": "[encoded data removed]",
      "text/plain": [
       "<Figure size 1200x800 with 1 Axes>"
      ]
     },
     "metadata": {},
     "output_type": "display_data"
    }
   ],
   "source": [
    "boxplot(df,'production_year')"
   ]
  },
  {
   "cell_type": "code",
   "execution_count": 181,
   "metadata": {},
   "outputs": [
    {
     "data": {
      "image/png": "[encoded data removed]",
      "text/plain": [
       "<Figure size 1200x800 with 1 Axes>"
      ]
     },
     "metadata": {},
     "output_type": "display_data"
    }
   ],
   "source": [
    "boxplot(df,'fiscal_power')"
   ]
  },
  {
   "cell_type": "code",
   "execution_count": 185,
   "metadata": {},
   "outputs": [],
   "source": [
    "# Save preprocessed data \n",
    "df.to_csv(\"../data/preprocessed_used_cars.csv\", index=False)"
   ]
  },
  {
   "cell_type": "code",
   "execution_count": 187,
   "metadata": {},
   "outputs": [],
   "source": [
    "# END OF PROCESSING DATA"
   ]
  }
 ],
 "metadata": {
  "interpreter": {
   "hash": "a113cb84d19a2766d2100de8f1ab8afda8ad58023b3b0712be17cf50433bcb7d"
  },
  "kernelspec": {
   "display_name": "Python 3 (ipykernel)",
   "language": "python",
   "name": "python3"
  },
  "language_info": {
   "codemirror_mode": {
    "name": "ipython",
    "version": 3
   },
   "file_extension": ".py",
   "mimetype": "text/x-python",
   "name": "python",
   "nbconvert_exporter": "python",
   "pygments_lexer": "ipython3",
   "version": "3.12.4"
  }
 },
 "nbformat": 4,
 "nbformat_minor": 4
}
